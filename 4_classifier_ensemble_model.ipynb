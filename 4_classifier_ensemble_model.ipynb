{
 "cells": [
  {
   "cell_type": "markdown",
   "id": "217c79a8",
   "metadata": {},
   "source": [
    "## Importing Libraries"
   ]
  },
  {
   "cell_type": "code",
   "execution_count": 1,
   "id": "135ba33d",
   "metadata": {},
   "outputs": [],
   "source": [
    "import pandas as pd\n",
    "import numpy as np\n",
    "import matplotlib.pyplot as plt\n",
    "from sklearn.model_selection import train_test_split\n",
    "\n",
    "import classifier_evaluation as clev\n",
    "import nested_cross_validation as ncv"
   ]
  },
  {
   "cell_type": "markdown",
   "id": "517a8c39",
   "metadata": {},
   "source": [
    "##  Dataframe load "
   ]
  },
  {
   "cell_type": "markdown",
   "id": "35a1bd83",
   "metadata": {},
   "source": [
    "## Setting X and Y for modeling"
   ]
  },
  {
   "cell_type": "code",
   "execution_count": 3,
   "id": "84896285",
   "metadata": {},
   "outputs": [],
   "source": [
    "X = pd.read_csv('molecule_descriptors_lvhc.csv', index_col = [0])"
   ]
  },
  {
   "cell_type": "code",
   "execution_count": 4,
   "id": "9a180c75",
   "metadata": {},
   "outputs": [],
   "source": [
    "Y = pd.read_csv('molecule_pIC50.csv', index_col = [0]).bioactivity_class"
   ]
  },
  {
   "cell_type": "markdown",
   "id": "e45e9a95",
   "metadata": {},
   "source": [
    "## External and Internal set"
   ]
  },
  {
   "cell_type": "code",
   "execution_count": 5,
   "id": "ebd23208",
   "metadata": {},
   "outputs": [],
   "source": [
    "internal_x, external_x, internal_y, external_y = train_test_split(X, Y, shuffle = True, stratify = Y, random_state = 42, test_size = 0.2)"
   ]
  },
  {
   "cell_type": "markdown",
   "id": "84f843ff",
   "metadata": {},
   "source": [
    "## Train and test from internal"
   ]
  },
  {
   "cell_type": "code",
   "execution_count": 6,
   "id": "e23b2eb9",
   "metadata": {},
   "outputs": [],
   "source": [
    "train_x, test_x, train_y, test_y = train_test_split(internal_x, internal_y, shuffle = True, stratify = internal_y, random_state = 42, test_size = 0.2)"
   ]
  },
  {
   "cell_type": "markdown",
   "id": "b4f1a850",
   "metadata": {},
   "source": [
    "## Random Forest Classifier"
   ]
  },
  {
   "cell_type": "code",
   "execution_count": 7,
   "id": "0cc5223a",
   "metadata": {},
   "outputs": [],
   "source": [
    "from sklearn.ensemble import RandomForestClassifier"
   ]
  },
  {
   "cell_type": "code",
   "execution_count": 8,
   "id": "32b47815",
   "metadata": {},
   "outputs": [],
   "source": [
    "rf = RandomForestClassifier(n_estimators = 1000)"
   ]
  },
  {
   "cell_type": "code",
   "execution_count": 9,
   "id": "ff46c499",
   "metadata": {},
   "outputs": [],
   "source": [
    "model = rf.fit(internal_x, internal_y)"
   ]
  },
  {
   "cell_type": "code",
   "execution_count": 10,
   "id": "e61a2748",
   "metadata": {},
   "outputs": [],
   "source": [
    "y_pred = model.predict(external_x)"
   ]
  },
  {
   "cell_type": "code",
   "execution_count": 11,
   "id": "58e6aeee",
   "metadata": {},
   "outputs": [],
   "source": [
    "y_proba = model.predict_proba(external_x)"
   ]
  },
  {
   "cell_type": "markdown",
   "id": "a7d8ee08",
   "metadata": {},
   "source": [
    "## Evaluation"
   ]
  },
  {
   "cell_type": "markdown",
   "id": "49865d86",
   "metadata": {},
   "source": [
    "### Scores"
   ]
  },
  {
   "cell_type": "code",
   "execution_count": 12,
   "id": "7682a8f5",
   "metadata": {},
   "outputs": [],
   "source": [
    "df_classifier_scores = clev.classifier_scoring(external_y, y_pred)"
   ]
  },
  {
   "cell_type": "code",
   "execution_count": 13,
   "id": "cf8a4037",
   "metadata": {},
   "outputs": [
    {
     "data": {
      "text/html": [
       "<div>\n",
       "<style scoped>\n",
       "    .dataframe tbody tr th:only-of-type {\n",
       "        vertical-align: middle;\n",
       "    }\n",
       "\n",
       "    .dataframe tbody tr th {\n",
       "        vertical-align: top;\n",
       "    }\n",
       "\n",
       "    .dataframe thead th {\n",
       "        text-align: right;\n",
       "    }\n",
       "</style>\n",
       "<table border=\"1\" class=\"dataframe\">\n",
       "  <thead>\n",
       "    <tr style=\"text-align: right;\">\n",
       "      <th></th>\n",
       "      <th>parameter</th>\n",
       "      <th>value</th>\n",
       "    </tr>\n",
       "  </thead>\n",
       "  <tbody>\n",
       "    <tr>\n",
       "      <th>0</th>\n",
       "      <td>accuracy</td>\n",
       "      <td>0.877193</td>\n",
       "    </tr>\n",
       "    <tr>\n",
       "      <th>1</th>\n",
       "      <td>balanced_accuracy</td>\n",
       "      <td>0.857792</td>\n",
       "    </tr>\n",
       "    <tr>\n",
       "      <th>2</th>\n",
       "      <td>average_precision</td>\n",
       "      <td>0.779107</td>\n",
       "    </tr>\n",
       "    <tr>\n",
       "      <th>3</th>\n",
       "      <td>neg_brier_score</td>\n",
       "      <td>0.122807</td>\n",
       "    </tr>\n",
       "    <tr>\n",
       "      <th>4</th>\n",
       "      <td>f1</td>\n",
       "      <td>0.829268</td>\n",
       "    </tr>\n",
       "    <tr>\n",
       "      <th>5</th>\n",
       "      <td>precision</td>\n",
       "      <td>0.894737</td>\n",
       "    </tr>\n",
       "    <tr>\n",
       "      <th>6</th>\n",
       "      <td>recall</td>\n",
       "      <td>0.772727</td>\n",
       "    </tr>\n",
       "    <tr>\n",
       "      <th>7</th>\n",
       "      <td>jaccard</td>\n",
       "      <td>0.708333</td>\n",
       "    </tr>\n",
       "    <tr>\n",
       "      <th>8</th>\n",
       "      <td>roc_auc</td>\n",
       "      <td>0.857792</td>\n",
       "    </tr>\n",
       "    <tr>\n",
       "      <th>9</th>\n",
       "      <td>G-mean</td>\n",
       "      <td>0.728571</td>\n",
       "    </tr>\n",
       "    <tr>\n",
       "      <th>10</th>\n",
       "      <td>MCC</td>\n",
       "      <td>0.738988</td>\n",
       "    </tr>\n",
       "  </tbody>\n",
       "</table>\n",
       "</div>"
      ],
      "text/plain": [
       "            parameter     value\n",
       "0            accuracy  0.877193\n",
       "1   balanced_accuracy  0.857792\n",
       "2   average_precision  0.779107\n",
       "3     neg_brier_score  0.122807\n",
       "4                  f1  0.829268\n",
       "5           precision  0.894737\n",
       "6              recall  0.772727\n",
       "7             jaccard  0.708333\n",
       "8             roc_auc  0.857792\n",
       "9              G-mean  0.728571\n",
       "10                MCC  0.738988"
      ]
     },
     "execution_count": 13,
     "metadata": {},
     "output_type": "execute_result"
    }
   ],
   "source": [
    "df_classifier_scores"
   ]
  },
  {
   "cell_type": "markdown",
   "id": "55b35196",
   "metadata": {},
   "source": [
    "### TP, TN, FP, FN Metrics"
   ]
  },
  {
   "cell_type": "code",
   "execution_count": 14,
   "id": "06853d52",
   "metadata": {},
   "outputs": [
    {
     "data": {
      "image/png": "[encoded data removed]",
      "text/plain": [
       "<Figure size 432x288 with 2 Axes>"
      ]
     },
     "metadata": {
      "needs_background": "light"
     },
     "output_type": "display_data"
    }
   ],
   "source": [
    "clev.plot_cm(external_y, y_pred)"
   ]
  },
  {
   "cell_type": "code",
   "execution_count": 15,
   "id": "07b22d02",
   "metadata": {},
   "outputs": [],
   "source": [
    "df_pos_neg_scores = clev.pn_rate_df(external_y, y_pred)"
   ]
  },
  {
   "cell_type": "code",
   "execution_count": 16,
   "id": "92ca3d83",
   "metadata": {},
   "outputs": [
    {
     "data": {
      "text/html": [
       "<div>\n",
       "<style scoped>\n",
       "    .dataframe tbody tr th:only-of-type {\n",
       "        vertical-align: middle;\n",
       "    }\n",
       "\n",
       "    .dataframe tbody tr th {\n",
       "        vertical-align: top;\n",
       "    }\n",
       "\n",
       "    .dataframe thead th {\n",
       "        text-align: right;\n",
       "    }\n",
       "</style>\n",
       "<table border=\"1\" class=\"dataframe\">\n",
       "  <thead>\n",
       "    <tr style=\"text-align: right;\">\n",
       "      <th></th>\n",
       "      <th>parameter</th>\n",
       "      <th>value</th>\n",
       "    </tr>\n",
       "  </thead>\n",
       "  <tbody>\n",
       "    <tr>\n",
       "      <th>0</th>\n",
       "      <td>True_Positive_Rate</td>\n",
       "      <td>0.772727</td>\n",
       "    </tr>\n",
       "    <tr>\n",
       "      <th>1</th>\n",
       "      <td>True_Negative_Rate</td>\n",
       "      <td>0.942857</td>\n",
       "    </tr>\n",
       "    <tr>\n",
       "      <th>2</th>\n",
       "      <td>Positive_predictive_value</td>\n",
       "      <td>0.894737</td>\n",
       "    </tr>\n",
       "    <tr>\n",
       "      <th>3</th>\n",
       "      <td>Negative_Predictive_Value</td>\n",
       "      <td>0.868421</td>\n",
       "    </tr>\n",
       "    <tr>\n",
       "      <th>4</th>\n",
       "      <td>False_Positive_Rate</td>\n",
       "      <td>0.057143</td>\n",
       "    </tr>\n",
       "    <tr>\n",
       "      <th>5</th>\n",
       "      <td>False_Negative_Rate</td>\n",
       "      <td>0.227273</td>\n",
       "    </tr>\n",
       "    <tr>\n",
       "      <th>6</th>\n",
       "      <td>False_Discovery_Rate</td>\n",
       "      <td>0.090909</td>\n",
       "    </tr>\n",
       "    <tr>\n",
       "      <th>7</th>\n",
       "      <td>Overall_Accuracy</td>\n",
       "      <td>0.877193</td>\n",
       "    </tr>\n",
       "  </tbody>\n",
       "</table>\n",
       "</div>"
      ],
      "text/plain": [
       "                   parameter     value\n",
       "0         True_Positive_Rate  0.772727\n",
       "1         True_Negative_Rate  0.942857\n",
       "2  Positive_predictive_value  0.894737\n",
       "3  Negative_Predictive_Value  0.868421\n",
       "4        False_Positive_Rate  0.057143\n",
       "5        False_Negative_Rate  0.227273\n",
       "6       False_Discovery_Rate  0.090909\n",
       "7           Overall_Accuracy  0.877193"
      ]
     },
     "execution_count": 16,
     "metadata": {},
     "output_type": "execute_result"
    }
   ],
   "source": [
    "df_pos_neg_scores"
   ]
  },
  {
   "cell_type": "markdown",
   "id": "2294e8b2",
   "metadata": {},
   "source": [
    "## Nested Cross Validation"
   ]
  },
  {
   "cell_type": "markdown",
   "id": "6c02a339",
   "metadata": {},
   "source": [
    "### Nested Cross Validation Training"
   ]
  },
  {
   "cell_type": "code",
   "execution_count": 17,
   "id": "8b2458aa",
   "metadata": {},
   "outputs": [
    {
     "name": "stdout",
     "output_type": "stream",
     "text": [
      ">acc=0.826, est=0.811, cfg={'criterion': 'gini', 'max_features': 4, 'n_estimators': 10}\n",
      ">acc=0.783, est=0.847, cfg={'criterion': 'gini', 'max_features': 4, 'n_estimators': 10}\n",
      ">acc=0.696, est=0.846, cfg={'criterion': 'entropy', 'max_features': 2, 'n_estimators': 10}\n",
      ">acc=0.783, est=0.832, cfg={'criterion': 'gini', 'max_features': 4, 'n_estimators': 10}\n",
      ">acc=0.913, est=0.832, cfg={'criterion': 'entropy', 'max_features': 2, 'n_estimators': 100}\n",
      ">acc=0.955, est=0.813, cfg={'criterion': 'gini', 'max_features': 6, 'n_estimators': 100}\n",
      ">acc=0.864, est=0.842, cfg={'criterion': 'gini', 'max_features': 4, 'n_estimators': 500}\n",
      ">acc=0.773, est=0.837, cfg={'criterion': 'gini', 'max_features': 6, 'n_estimators': 500}\n",
      ">acc=0.909, est=0.847, cfg={'criterion': 'entropy', 'max_features': 4, 'n_estimators': 100}\n",
      ">acc=0.727, est=0.857, cfg={'criterion': 'gini', 'max_features': 2, 'n_estimators': 10}\n"
     ]
    }
   ],
   "source": [
    "model_list = ncv.nested_cv(internal_x, internal_y)"
   ]
  },
  {
   "cell_type": "code",
   "execution_count": 18,
   "id": "76b18ddc",
   "metadata": {},
   "outputs": [],
   "source": [
    "ensemble_list = ncv.ensemble_predict(model_list, external_x)"
   ]
  },
  {
   "cell_type": "code",
   "execution_count": 19,
   "id": "eef7d76b",
   "metadata": {},
   "outputs": [],
   "source": [
    "final_pred = ncv.binary_pred(ensemble_list)"
   ]
  },
  {
   "cell_type": "markdown",
   "id": "32df7891",
   "metadata": {},
   "source": [
    "## Evaluation of nested cross validated ensemble model"
   ]
  },
  {
   "cell_type": "code",
   "execution_count": 20,
   "id": "b8b95531",
   "metadata": {},
   "outputs": [
    {
     "data": {
      "image/png": "[encoded data removed]",
      "text/plain": [
       "<Figure size 432x288 with 2 Axes>"
      ]
     },
     "metadata": {
      "needs_background": "light"
     },
     "output_type": "display_data"
    }
   ],
   "source": [
    "clev.plot_cm(external_y, final_pred)"
   ]
  },
  {
   "cell_type": "code",
   "execution_count": 21,
   "id": "ae901ada",
   "metadata": {},
   "outputs": [],
   "source": [
    "df_cvn_evaluation = clev.classifier_scoring(external_y, final_pred)"
   ]
  },
  {
   "cell_type": "code",
   "execution_count": 22,
   "id": "2dddcda4",
   "metadata": {},
   "outputs": [
    {
     "data": {
      "text/html": [
       "<div>\n",
       "<style scoped>\n",
       "    .dataframe tbody tr th:only-of-type {\n",
       "        vertical-align: middle;\n",
       "    }\n",
       "\n",
       "    .dataframe tbody tr th {\n",
       "        vertical-align: top;\n",
       "    }\n",
       "\n",
       "    .dataframe thead th {\n",
       "        text-align: right;\n",
       "    }\n",
       "</style>\n",
       "<table border=\"1\" class=\"dataframe\">\n",
       "  <thead>\n",
       "    <tr style=\"text-align: right;\">\n",
       "      <th></th>\n",
       "      <th>parameter</th>\n",
       "      <th>value</th>\n",
       "    </tr>\n",
       "  </thead>\n",
       "  <tbody>\n",
       "    <tr>\n",
       "      <th>0</th>\n",
       "      <td>accuracy</td>\n",
       "      <td>0.859649</td>\n",
       "    </tr>\n",
       "    <tr>\n",
       "      <th>1</th>\n",
       "      <td>balanced_accuracy</td>\n",
       "      <td>0.835065</td>\n",
       "    </tr>\n",
       "    <tr>\n",
       "      <th>2</th>\n",
       "      <td>average_precision</td>\n",
       "      <td>0.751728</td>\n",
       "    </tr>\n",
       "    <tr>\n",
       "      <th>3</th>\n",
       "      <td>neg_brier_score</td>\n",
       "      <td>0.140351</td>\n",
       "    </tr>\n",
       "    <tr>\n",
       "      <th>4</th>\n",
       "      <td>f1</td>\n",
       "      <td>0.800000</td>\n",
       "    </tr>\n",
       "    <tr>\n",
       "      <th>5</th>\n",
       "      <td>precision</td>\n",
       "      <td>0.888889</td>\n",
       "    </tr>\n",
       "    <tr>\n",
       "      <th>6</th>\n",
       "      <td>recall</td>\n",
       "      <td>0.727273</td>\n",
       "    </tr>\n",
       "    <tr>\n",
       "      <th>7</th>\n",
       "      <td>jaccard</td>\n",
       "      <td>0.666667</td>\n",
       "    </tr>\n",
       "    <tr>\n",
       "      <th>8</th>\n",
       "      <td>roc_auc</td>\n",
       "      <td>0.835065</td>\n",
       "    </tr>\n",
       "    <tr>\n",
       "      <th>9</th>\n",
       "      <td>G-mean</td>\n",
       "      <td>0.685714</td>\n",
       "    </tr>\n",
       "    <tr>\n",
       "      <th>10</th>\n",
       "      <td>MCC</td>\n",
       "      <td>0.701836</td>\n",
       "    </tr>\n",
       "  </tbody>\n",
       "</table>\n",
       "</div>"
      ],
      "text/plain": [
       "            parameter     value\n",
       "0            accuracy  0.859649\n",
       "1   balanced_accuracy  0.835065\n",
       "2   average_precision  0.751728\n",
       "3     neg_brier_score  0.140351\n",
       "4                  f1  0.800000\n",
       "5           precision  0.888889\n",
       "6              recall  0.727273\n",
       "7             jaccard  0.666667\n",
       "8             roc_auc  0.835065\n",
       "9              G-mean  0.685714\n",
       "10                MCC  0.701836"
      ]
     },
     "execution_count": 22,
     "metadata": {},
     "output_type": "execute_result"
    }
   ],
   "source": [
    "df_cvn_evaluation"
   ]
  },
  {
   "cell_type": "code",
   "execution_count": 23,
   "id": "e94dff82",
   "metadata": {},
   "outputs": [],
   "source": [
    "df_cvn_evaluation = clev.pn_rate_df(external_y, final_pred)"
   ]
  },
  {
   "cell_type": "code",
   "execution_count": 24,
   "id": "8621adac",
   "metadata": {},
   "outputs": [
    {
     "data": {
      "text/html": [
       "<div>\n",
       "<style scoped>\n",
       "    .dataframe tbody tr th:only-of-type {\n",
       "        vertical-align: middle;\n",
       "    }\n",
       "\n",
       "    .dataframe tbody tr th {\n",
       "        vertical-align: top;\n",
       "    }\n",
       "\n",
       "    .dataframe thead th {\n",
       "        text-align: right;\n",
       "    }\n",
       "</style>\n",
       "<table border=\"1\" class=\"dataframe\">\n",
       "  <thead>\n",
       "    <tr style=\"text-align: right;\">\n",
       "      <th></th>\n",
       "      <th>parameter</th>\n",
       "      <th>value</th>\n",
       "    </tr>\n",
       "  </thead>\n",
       "  <tbody>\n",
       "    <tr>\n",
       "      <th>0</th>\n",
       "      <td>True_Positive_Rate</td>\n",
       "      <td>0.727273</td>\n",
       "    </tr>\n",
       "    <tr>\n",
       "      <th>1</th>\n",
       "      <td>True_Negative_Rate</td>\n",
       "      <td>0.942857</td>\n",
       "    </tr>\n",
       "    <tr>\n",
       "      <th>2</th>\n",
       "      <td>Positive_predictive_value</td>\n",
       "      <td>0.888889</td>\n",
       "    </tr>\n",
       "    <tr>\n",
       "      <th>3</th>\n",
       "      <td>Negative_Predictive_Value</td>\n",
       "      <td>0.846154</td>\n",
       "    </tr>\n",
       "    <tr>\n",
       "      <th>4</th>\n",
       "      <td>False_Positive_Rate</td>\n",
       "      <td>0.057143</td>\n",
       "    </tr>\n",
       "    <tr>\n",
       "      <th>5</th>\n",
       "      <td>False_Negative_Rate</td>\n",
       "      <td>0.272727</td>\n",
       "    </tr>\n",
       "    <tr>\n",
       "      <th>6</th>\n",
       "      <td>False_Discovery_Rate</td>\n",
       "      <td>0.090909</td>\n",
       "    </tr>\n",
       "    <tr>\n",
       "      <th>7</th>\n",
       "      <td>Overall_Accuracy</td>\n",
       "      <td>0.859649</td>\n",
       "    </tr>\n",
       "  </tbody>\n",
       "</table>\n",
       "</div>"
      ],
      "text/plain": [
       "                   parameter     value\n",
       "0         True_Positive_Rate  0.727273\n",
       "1         True_Negative_Rate  0.942857\n",
       "2  Positive_predictive_value  0.888889\n",
       "3  Negative_Predictive_Value  0.846154\n",
       "4        False_Positive_Rate  0.057143\n",
       "5        False_Negative_Rate  0.272727\n",
       "6       False_Discovery_Rate  0.090909\n",
       "7           Overall_Accuracy  0.859649"
      ]
     },
     "execution_count": 24,
     "metadata": {},
     "output_type": "execute_result"
    }
   ],
   "source": [
    "df_cvn_evaluation"
   ]
  },
  {
   "cell_type": "code",
   "execution_count": 25,
   "id": "5c2b9401",
   "metadata": {},
   "outputs": [],
   "source": [
    "from pickle import dump"
   ]
  },
  {
   "cell_type": "code",
   "execution_count": 26,
   "id": "311c0537",
   "metadata": {},
   "outputs": [],
   "source": [
    "for i in range(len(model_list)):\n",
    "    dump(model_list[i],open(f'model_molecule{i}.pkl','wb'))"
   ]
  },
  {
   "cell_type": "markdown",
   "id": "d92d991c",
   "metadata": {},
   "source": [
    "## Cross Validation"
   ]
  },
  {
   "cell_type": "code",
   "execution_count": 27,
   "id": "735f3b5e",
   "metadata": {},
   "outputs": [],
   "source": [
    "kfoldcv_df = clev.k_fold_cv_evaluation(model_list, internal_x, internal_y, scores = clev.scoring, scores_name = clev.scoring_, k = 5)"
   ]
  },
  {
   "cell_type": "code",
   "execution_count": 28,
   "id": "7284c609",
   "metadata": {},
   "outputs": [
    {
     "data": {
      "text/html": [
       "<div>\n",
       "<style scoped>\n",
       "    .dataframe tbody tr th:only-of-type {\n",
       "        vertical-align: middle;\n",
       "    }\n",
       "\n",
       "    .dataframe tbody tr th {\n",
       "        vertical-align: top;\n",
       "    }\n",
       "\n",
       "    .dataframe thead th {\n",
       "        text-align: right;\n",
       "    }\n",
       "</style>\n",
       "<table border=\"1\" class=\"dataframe\">\n",
       "  <thead>\n",
       "    <tr style=\"text-align: right;\">\n",
       "      <th></th>\n",
       "      <th>parameter</th>\n",
       "      <th>value</th>\n",
       "    </tr>\n",
       "  </thead>\n",
       "  <tbody>\n",
       "    <tr>\n",
       "      <th>0</th>\n",
       "      <td>accuracy</td>\n",
       "      <td>0.812000</td>\n",
       "    </tr>\n",
       "    <tr>\n",
       "      <th>1</th>\n",
       "      <td>average_precision</td>\n",
       "      <td>0.858434</td>\n",
       "    </tr>\n",
       "    <tr>\n",
       "      <th>2</th>\n",
       "      <td>neg_brier_score</td>\n",
       "      <td>-0.131532</td>\n",
       "    </tr>\n",
       "    <tr>\n",
       "      <th>3</th>\n",
       "      <td>f1</td>\n",
       "      <td>0.745617</td>\n",
       "    </tr>\n",
       "    <tr>\n",
       "      <th>4</th>\n",
       "      <td>neg_log_loss</td>\n",
       "      <td>-0.728885</td>\n",
       "    </tr>\n",
       "    <tr>\n",
       "      <th>5</th>\n",
       "      <td>precision</td>\n",
       "      <td>0.782823</td>\n",
       "    </tr>\n",
       "    <tr>\n",
       "      <th>6</th>\n",
       "      <td>sensitivity</td>\n",
       "      <td>0.716340</td>\n",
       "    </tr>\n",
       "    <tr>\n",
       "      <th>7</th>\n",
       "      <td>specificity</td>\n",
       "      <td>0.872116</td>\n",
       "    </tr>\n",
       "    <tr>\n",
       "      <th>8</th>\n",
       "      <td>MCC</td>\n",
       "      <td>0.600430</td>\n",
       "    </tr>\n",
       "    <tr>\n",
       "      <th>9</th>\n",
       "      <td>jaccard</td>\n",
       "      <td>0.601122</td>\n",
       "    </tr>\n",
       "    <tr>\n",
       "      <th>10</th>\n",
       "      <td>roc_auc</td>\n",
       "      <td>0.888550</td>\n",
       "    </tr>\n",
       "  </tbody>\n",
       "</table>\n",
       "</div>"
      ],
      "text/plain": [
       "            parameter     value\n",
       "0            accuracy  0.812000\n",
       "1   average_precision  0.858434\n",
       "2     neg_brier_score -0.131532\n",
       "3                  f1  0.745617\n",
       "4        neg_log_loss -0.728885\n",
       "5           precision  0.782823\n",
       "6         sensitivity  0.716340\n",
       "7         specificity  0.872116\n",
       "8                 MCC  0.600430\n",
       "9             jaccard  0.601122\n",
       "10            roc_auc  0.888550"
      ]
     },
     "execution_count": 28,
     "metadata": {},
     "output_type": "execute_result"
    }
   ],
   "source": [
    "kfoldcv_df"
   ]
  },
  {
   "cell_type": "code",
   "execution_count": null,
   "id": "c1dba736",
   "metadata": {},
   "outputs": [],
   "source": []
  }
 ],
 "metadata": {
  "kernelspec": {
   "display_name": "Python [conda env:my-rdkit-env] *",
   "language": "python",
   "name": "conda-env-my-rdkit-env-py"
  },
  "language_info": {
   "codemirror_mode": {
    "name": "ipython",
    "version": 3
   },
   "file_extension": ".py",
   "mimetype": "text/x-python",
   "name": "python",
   "nbconvert_exporter": "python",
   "pygments_lexer": "ipython3",
   "version": "3.7.11"
  }
 },
 "nbformat": 4,
 "nbformat_minor": 5
}
