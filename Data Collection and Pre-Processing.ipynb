{
 "cells": [
  {
   "cell_type": "markdown",
   "id": "776c8430",
   "metadata": {},
   "source": [
    "# Data Collection and Pre-Processing"
   ]
  },
  {
   "cell_type": "markdown",
   "id": "81af8449",
   "metadata": {},
   "source": [
    "### Installing Chembl API"
   ]
  },
  {
   "cell_type": "code",
   "execution_count": null,
   "id": "1792e235",
   "metadata": {},
   "outputs": [],
   "source": [
    "!pip install chembl_webresource_client"
   ]
  },
  {
   "cell_type": "markdown",
   "id": "61fc1e79",
   "metadata": {},
   "source": [
    "### Importing Libraries"
   ]
  },
  {
   "cell_type": "code",
   "execution_count": null,
   "id": "c9f36f65",
   "metadata": {},
   "outputs": [],
   "source": [
    "import pandas as pd\n",
    "import matplotlib.pyplot as plt\n",
    "import numpy as np\n",
    "import plotly.express as px\n",
    "import plotly.graph_objects as go\n",
    "from chembl_webresource_client.new_client import new_client\n",
    "\n",
    "\n",
    "from chembl_structure_pipeline import standardizer\n",
    "from rdkit import Chem\n",
    "from rdkit import rdBase\n",
    "from rdkit.Chem.Draw import IPythonConsole\n",
    "\n",
    "rdBase.rdkitVersion\n",
    "\n",
    "from rdkit.Chem import Draw\n",
    "from rdkit.Chem import MolStandardize\n"
   ]
  },
  {
   "cell_type": "markdown",
   "id": "b0229550",
   "metadata": {},
   "source": [
    "## Functions to be used in this project"
   ]
  },
  {
   "cell_type": "code",
   "execution_count": null,
   "id": "d3a4dd28",
   "metadata": {},
   "outputs": [],
   "source": [
    "def print_columns(dataframe):\n",
    "    columns = dataframe.columns\n",
    "    for i in columns:\n",
    "        print(i)"
   ]
  },
  {
   "cell_type": "code",
   "execution_count": null,
   "id": "073f19a7",
   "metadata": {},
   "outputs": [],
   "source": [
    "def dupe_removal(dataframe, interest_column, bioactivity_column):\n",
    "    \"\"\"\n",
    "    interest_column and bioactivity_column must be in the dataframe and must be a string,\n",
    "    dataframe must be a Pandas Dataframe object\n",
    "    \"\"\"\n",
    "    df_dupe = dataframe[dataframe[interest_column].duplicated(keep = False)]\n",
    "    \n",
    "    #Make a list with the SMILES representing each dupe\n",
    "    smile_dupes = list()\n",
    "    for i in df_dupe[interest_column]:\n",
    "        if i not in smile_dupes:\n",
    "            smile_dupes.append(i)\n",
    "    \n",
    "    #Make a list with Standard deviation for each set of duplicates\n",
    "    deviation = list()\n",
    "    for i in smile_dupes:\n",
    "        df_dev = df_dupe[df_dupe[interest_column] == i]\n",
    "        deviation.append([df_dev[bioactivity_column].std(), i]) #(bioactivity, SMILE)\n",
    "        \n",
    "    # List with all the duplicates with bioactivity deviation lesser than two, to be removed from the dataframe\n",
    "    to_be_removed = list()\n",
    "    for i, j in deviation:\n",
    "        if i <= 2:\n",
    "            to_be_removed.append(j)\n",
    "            \n",
    "    #Removal of duplicated canonical smiles with small deviation from original dataset\n",
    "    for i in to_be_removed:\n",
    "        dataframe.drop(df_activity.loc[df_activity['canonical_smiles'] == i].index, inplace = True)"
   ]
  },
  {
   "cell_type": "code",
   "execution_count": null,
   "id": "58a2dd85",
   "metadata": {},
   "outputs": [],
   "source": [
    "def mol_to_block(dataframe):\n",
    "    \"\"\"\n",
    "    Smiles column in the dataframe must be named canonical_smiles\n",
    "    \"\"\"\n",
    "    mols = list()\n",
    "    for i, smi in enumerate(dataframe.canonical_smiles):\n",
    "        try:\n",
    "            mol = Chem.MolFromSmiles(smi)\n",
    "            mol = Chem.MolToMolBlock(mol)\n",
    "            mols.append(mol)\n",
    "        except:\n",
    "            print(smi)\n",
    "    return mols"
   ]
  },
  {
   "cell_type": "code",
   "execution_count": null,
   "id": "591c2b04",
   "metadata": {},
   "outputs": [],
   "source": [
    "def mol_standardizer(dataframe):\n",
    "    mol_block = mol_to_block(dataframe)\n",
    "    std_block = list()\n",
    "    for i in mol_block:\n",
    "        try:\n",
    "            std_molblock = standardizer.standardize_molblock(i)\n",
    "            std_block.append(std_molblock)\n",
    "        except:\n",
    "            print(i)\n",
    "    return std_block"
   ]
  },
  {
   "cell_type": "code",
   "execution_count": null,
   "id": "ba92605d",
   "metadata": {},
   "outputs": [],
   "source": [
    "def block_to_smiles(block_list):\n",
    "    SMILE_list = []\n",
    "    for i in block_list:\n",
    "        try:\n",
    "            mol = Chem.MolFromMolBlock(i)\n",
    "            mol = Chem.MolToSmiles(mol)\n",
    "            SMILE_list.append(mol)\n",
    "        except:\n",
    "            print(i)\n",
    "    return SMILE_list"
   ]
  },
  {
   "cell_type": "code",
   "execution_count": null,
   "id": "b4b319f8",
   "metadata": {},
   "outputs": [],
   "source": [
    "def remove_tautomers(smile_list):\n",
    "    smile_tau = list()\n",
    "    for i in smile_list:\n",
    "        try:\n",
    "            tau_smi = MolStandardize.canonicalize_tautomer_smiles(i)       \n",
    "            smile_tau.append(tau_smi)\n",
    "        except:\n",
    "            print(smi)\n",
    "    return smile_tau"
   ]
  },
  {
   "cell_type": "code",
   "execution_count": null,
   "id": "30dff07e",
   "metadata": {},
   "outputs": [],
   "source": [
    "def remove_salts(smile_list):\n",
    "    smile_salt = list()\n",
    "    for i in smile_list:\n",
    "        try:\n",
    "            mol = Chem.MolFromSmiles(i)\n",
    "            mol = Chem.SaltRemover.StripMol(mol)\n",
    "            smile_salt.append(Chem.MolToSmiles(mol))\n",
    "        except:\n",
    "            print(smi)  \n",
    "    return smile_salt"
   ]
  },
  {
   "cell_type": "code",
   "execution_count": null,
   "id": "dffb2543",
   "metadata": {},
   "outputs": [],
   "source": [
    "def bioactivity_class(dataframe, standard_value):\n",
    "    \"\"\"\n",
    "    standard_value is the name of the column which contain the bioactivity class (standard class in ChEMBL). Must be a string\n",
    "    \n",
    "    \"\"\"\n",
    "    bioactivity = list()\n",
    "    for i in dataframe[standard_value]:\n",
    "        if i >= 10000:\n",
    "            bioactivity.append(\"inactive\")\n",
    "        elif i <= 1000:\n",
    "            bioactivity.append(\"active\")\n",
    "        else:\n",
    "            bioactivity.append(\"intermediate\")\n",
    "    return bioactivity"
   ]
  },
  {
   "cell_type": "code",
   "execution_count": null,
   "id": "0e20464b",
   "metadata": {},
   "outputs": [],
   "source": [
    "def pIC50molar(dataframe):\n",
    "    pIC50 = []\n",
    "    \n",
    "    for i in dataframe.standard_value:\n",
    "        molar =i*(10**-9) # Converts nM to M\n",
    "        pIC50.append(-np.log10(molar))\n",
    "            \n",
    "    dataframe['standard_value'] = pIC50\n",
    "    dataframe.rename(columns = {'standard_value':'pIC50'}, inplace = True)"
   ]
  },
  {
   "cell_type": "markdown",
   "id": "eecee077",
   "metadata": {},
   "source": [
    "## Data Collection - CHEMbl API"
   ]
  },
  {
   "cell_type": "code",
   "execution_count": null,
   "id": "a50c504b",
   "metadata": {},
   "outputs": [],
   "source": [
    "target = new_client.target\n",
    "target_query = target.search('InhA')\n",
    "targets = pd.DataFrame.from_dict(target_query)"
   ]
  },
  {
   "cell_type": "code",
   "execution_count": null,
   "id": "a4b4ce30",
   "metadata": {},
   "outputs": [],
   "source": [
    "targets"
   ]
  },
  {
   "cell_type": "markdown",
   "id": "860a8690",
   "metadata": {},
   "source": [
    "### Target Selection"
   ]
  },
  {
   "cell_type": "code",
   "execution_count": null,
   "id": "1aedf54b",
   "metadata": {},
   "outputs": [],
   "source": [
    "selected_target = targets.target_chembl_id[0] \n",
    "selected_target"
   ]
  },
  {
   "cell_type": "markdown",
   "id": "0c72c3a2",
   "metadata": {},
   "source": [
    "### Filtering by Activity"
   ]
  },
  {
   "cell_type": "code",
   "execution_count": null,
   "id": "c186f83f",
   "metadata": {},
   "outputs": [],
   "source": [
    "activity = new_client.activity\n",
    "res = activity.filter(target_chembl_id=selected_target).filter(standard_type=\"IC50\")"
   ]
  },
  {
   "cell_type": "code",
   "execution_count": null,
   "id": "ea401f8c",
   "metadata": {},
   "outputs": [],
   "source": [
    "df_activity = pd.DataFrame.from_dict(res)"
   ]
  },
  {
   "cell_type": "code",
   "execution_count": null,
   "id": "64a99e5c",
   "metadata": {},
   "outputs": [],
   "source": [
    "df_activity.head(10)"
   ]
  },
  {
   "cell_type": "markdown",
   "id": "3b1de238",
   "metadata": {},
   "source": [
    "## Data Collection - Other Way"
   ]
  },
  {
   "cell_type": "markdown",
   "id": "94c090ea",
   "metadata": {},
   "source": [
    "Download in ChEMBL web platform the target do be analyzed, as a .csv file. \n",
    "This project will use the Enoyl ACP Enoctase"
   ]
  },
  {
   "cell_type": "code",
   "execution_count": null,
   "id": "2887ea18",
   "metadata": {},
   "outputs": [],
   "source": [
    "#df_activity = pd.read_csv('inha.csv', sep = ';')\n",
    "#df_activity.head()"
   ]
  },
  {
   "cell_type": "markdown",
   "id": "a2952d94",
   "metadata": {},
   "source": [
    "Pandas Default Settings doesn't allow all data of a big dataframe to be shown, but it's settings can be changed"
   ]
  },
  {
   "cell_type": "code",
   "execution_count": null,
   "id": "f9c10c6d",
   "metadata": {},
   "outputs": [],
   "source": [
    "pd.set_option('display.max_columns',None)\n",
    "pd.set_option('display.max_rows', None)"
   ]
  },
  {
   "cell_type": "markdown",
   "id": "e8177d6b",
   "metadata": {},
   "source": [
    "Index files will appear a few times in this project. They can be confusing to look at, so a better visualization can be implemented"
   ]
  },
  {
   "cell_type": "code",
   "execution_count": null,
   "id": "291ae2db",
   "metadata": {},
   "outputs": [],
   "source": [
    "print_columns(df_activity)"
   ]
  },
  {
   "cell_type": "markdown",
   "id": "0459ed20",
   "metadata": {},
   "source": [
    "## Data Pre-Processing"
   ]
  },
  {
   "cell_type": "markdown",
   "id": "aa94a983",
   "metadata": {},
   "source": [
    "### Removal of usual Null and Non Numerical values in interest columns"
   ]
  },
  {
   "cell_type": "code",
   "execution_count": null,
   "id": "cac1300d",
   "metadata": {},
   "outputs": [],
   "source": [
    "# number of targets before pre-processing\n",
    "before_pre = df_activity.shape[0]\n",
    "before_pre"
   ]
  },
  {
   "cell_type": "code",
   "execution_count": null,
   "id": "c3a97777",
   "metadata": {},
   "outputs": [],
   "source": [
    "df_activity.drop(df_activity[df_activity['assay_type'] == 'F'].index, inplace=True)"
   ]
  },
  {
   "cell_type": "code",
   "execution_count": null,
   "id": "de3b7ef3",
   "metadata": {},
   "outputs": [],
   "source": [
    "# inplace = True Allow the changes to be made in the original dataset\n",
    "df_activity.drop(df_activity[df_activity['standard_relation'] == '>'].index, inplace=True)\n",
    "df_activity.drop(df_activity[df_activity['standard_relation'] == '<'].index, inplace=True)"
   ]
  },
  {
   "cell_type": "code",
   "execution_count": null,
   "id": "34ce87ec",
   "metadata": {},
   "outputs": [],
   "source": [
    "df_activity.dropna(subset = ['standard_value'], inplace = True)\n",
    "df_activity.dropna(subset = ['standard_units'], inplace = True)\n",
    "df_activity.dropna(subset = ['canonical_smiles'], inplace = True)\n",
    "df_activity.dropna(axis=1, how='all', inplace = True)\n",
    "df_activity['standard_value'] = df_activity['standard_value'].astype(float)"
   ]
  },
  {
   "cell_type": "code",
   "execution_count": null,
   "id": "959e0f17",
   "metadata": {},
   "outputs": [],
   "source": [
    "after_pre = df_activity.shape[0]\n",
    "after_pre"
   ]
  },
  {
   "cell_type": "code",
   "execution_count": null,
   "id": "fa30a24b",
   "metadata": {},
   "outputs": [],
   "source": [
    "print(f'The number of non numerical and null values removed is {before_pre - after_pre}')"
   ]
  },
  {
   "cell_type": "markdown",
   "id": "cdbcdb2c",
   "metadata": {},
   "source": [
    "### Removal of non-relevant Duplicates"
   ]
  },
  {
   "cell_type": "markdown",
   "id": "bbbd3c12",
   "metadata": {},
   "source": [
    "Duplicates with a standard deviation value of 2 or higher will be kept in the dataset"
   ]
  },
  {
   "cell_type": "code",
   "execution_count": null,
   "id": "036c70a2",
   "metadata": {},
   "outputs": [],
   "source": [
    "dupe_removal(df_activity, 'canonical_smiles', 'standard_value')"
   ]
  },
  {
   "cell_type": "code",
   "execution_count": null,
   "id": "c9b3df2c",
   "metadata": {},
   "outputs": [],
   "source": [
    "print(f'{after_pre - df_activity.shape[0]} duplicates were removed in this process')"
   ]
  },
  {
   "cell_type": "markdown",
   "id": "6c969987",
   "metadata": {},
   "source": [
    "## Pre- Processing"
   ]
  },
  {
   "cell_type": "markdown",
   "id": "775f9e3d",
   "metadata": {},
   "source": [
    "### ChEMBL Structure Pipeline - Standardizer"
   ]
  },
  {
   "cell_type": "markdown",
   "id": "c0a44cef",
   "metadata": {},
   "source": [
    "ChEMBL Structure Pipeline Package can be used to standardize the SMILES from the dataset. \n",
    "\n",
    "Info about this package can be found at https://github.com/chembl/ChEMBL_Structure_Pipeline\n",
    "    \n",
    "To use this package, having RDKit installed is a necessity\n",
    "\n",
    "The process of standardization follow these steps:\n",
    "    \n",
    "    1. Standardize unknown stereochemistry (Handled by the RDKit Mol file parser) i)Fix wiggly bonds on sp3 carbons - sets atoms and bonds marked as unknown stereo to no stereo ii)Fix wiggly bonds on double bonds – set double bond to crossed bond\n",
    "    \n",
    "    2. Clears S Group data from the mol file\n",
    "    \n",
    "    3. Kekulize the structure\n",
    "    \n",
    "    4. Remove H atoms \n",
    "    \n",
    "    5. Normalization: \n",
    "        i) Fix hypervalent nitro groups \n",
    "        \n",
    "        ii) Fix KO to K+ O- and NaO to Na+ O- (Also add Li+ to this) \n",
    "        \n",
    "        iii)Correct amides with N=COH \n",
    "        \n",
    "        iv) Standardise sulphoxides to charge separated form \n",
    "        \n",
    "        v) Standardize diazonium N (atom :2 here: [:1]-[N;X2:2]#[N;X1:3]>>[:1]) to N+ vi) Ensure quaternary N is charged \n",
    "        \n",
    "        vii)Ensure trivalent O ([*:1]=[O;X2;v3;+0:2]-[#6:3]) is charged \n",
    "        \n",
    "        viii)Ensure trivalent S ([O:1]=[S;D2;+0:2]-[#6:3]) is charged \n",
    "        \n",
    "        ix) Ensure halogen with no neighbors ([F,Cl,Br,I;X0;+0:1]) is charged\n",
    "    \n",
    "    6. The molecule is neutralized, if possible. See the page on neutralization rules for more details.\n",
    "    \n",
    "    7. Remove stereo from tartrate to simplify salt matching\n",
    "    \n",
    "    8. Normalise (straighten) triple bonds and allenes"
   ]
  },
  {
   "cell_type": "code",
   "execution_count": null,
   "id": "c58db913",
   "metadata": {},
   "outputs": [],
   "source": [
    "!git clone https://github.com/chembl/ChEMBL_Structure_Pipeline.git\n",
    "!pip install ./ChEMBL_Structure_Pipeline"
   ]
  },
  {
   "cell_type": "markdown",
   "id": "229a1ee7",
   "metadata": {},
   "source": [
    "To use the Standardizer function, the Molecules must be in Mol_block format"
   ]
  },
  {
   "cell_type": "code",
   "execution_count": null,
   "id": "34636ece",
   "metadata": {},
   "outputs": [],
   "source": [
    "blocks_std = mol_standardizer(df_activity)"
   ]
  },
  {
   "cell_type": "code",
   "execution_count": null,
   "id": "f4b4e098",
   "metadata": {},
   "outputs": [],
   "source": [
    "std_smiles = block_to_smiles(blocks_std)"
   ]
  },
  {
   "cell_type": "markdown",
   "id": "b0fe7e24",
   "metadata": {},
   "source": [
    "### Removal of Tautomers and Salts"
   ]
  },
  {
   "cell_type": "markdown",
   "id": "b9a099cb",
   "metadata": {},
   "source": [
    "Impurities can be removed and SMILES can be normalized manually using the RDKit Library. Here follows examples of coding to remove Tautomers and Salts. Other base functions from RDKit can be found in its own documentation, and removal functions can be written as the ones below."
   ]
  },
  {
   "cell_type": "code",
   "execution_count": null,
   "id": "f5440461",
   "metadata": {},
   "outputs": [],
   "source": [
    "#no_tautomers = remove_tautomer(std_smiles)"
   ]
  },
  {
   "cell_type": "code",
   "execution_count": null,
   "id": "26a26e0c",
   "metadata": {},
   "outputs": [],
   "source": [
    "#no_salt = remove_salt(no_tautomers)"
   ]
  },
  {
   "cell_type": "markdown",
   "id": "1c20606c",
   "metadata": {},
   "source": [
    "### Integrating the new canonical_smiles column in the base dataset"
   ]
  },
  {
   "cell_type": "code",
   "execution_count": null,
   "id": "e351b283",
   "metadata": {},
   "outputs": [],
   "source": [
    "df_activity['canonical_smiles'] = std_smiles"
   ]
  },
  {
   "cell_type": "markdown",
   "id": "2d7f8a45",
   "metadata": {},
   "source": [
    "## Set bioactivity class as inactive, active and intermediate"
   ]
  },
  {
   "cell_type": "code",
   "execution_count": null,
   "id": "436acdb2",
   "metadata": {},
   "outputs": [],
   "source": [
    "bioactivity = bioactivity_class(df_activity, 'standard_value')"
   ]
  },
  {
   "cell_type": "code",
   "execution_count": null,
   "id": "4e3ab2c9",
   "metadata": {},
   "outputs": [],
   "source": [
    "df_activity['bioactivity_class'] = bioactivity\n",
    "df_activity.bioactivity_class.value_counts()"
   ]
  },
  {
   "cell_type": "markdown",
   "id": "4d79493e",
   "metadata": {},
   "source": [
    "## Normalize IC50 values to pIC50"
   ]
  },
  {
   "cell_type": "code",
   "execution_count": null,
   "id": "94c1f64d",
   "metadata": {},
   "outputs": [],
   "source": [
    "df_activity.head()"
   ]
  },
  {
   "cell_type": "code",
   "execution_count": null,
   "id": "75f98fd2",
   "metadata": {},
   "outputs": [],
   "source": [
    "pIC50molar(df_activity)"
   ]
  },
  {
   "cell_type": "code",
   "execution_count": null,
   "id": "25152298",
   "metadata": {},
   "outputs": [],
   "source": [
    "df_activity.head()"
   ]
  },
  {
   "cell_type": "code",
   "execution_count": null,
   "id": "18148d16",
   "metadata": {},
   "outputs": [],
   "source": [
    "df_activity.pIC50.describe()"
   ]
  },
  {
   "cell_type": "markdown",
   "id": "3425e88a",
   "metadata": {},
   "source": [
    "## pIC50 Distribution graph"
   ]
  },
  {
   "cell_type": "code",
   "execution_count": null,
   "id": "f19aa12f",
   "metadata": {},
   "outputs": [],
   "source": [
    "traces = []\n",
    "\n",
    "for activity, bioactivity in df_activity.groupby('bioactivity_class'):\n",
    "    traces.append(go.Scatter(x = bioactivity.pIC50, y = bioactivity.pIC50, name = activity, mode='markers'))\n",
    "\n",
    "fig = go.Figure(data=traces)\n",
    "\n",
    "fig.update_layout(\n",
    "    title={\n",
    "        'text': \"pIC50 by Bioactivity\",\n",
    "        'y':0.9,\n",
    "        'x':0.5,\n",
    "        'xanchor': 'center',\n",
    "        'yanchor': 'top'},\n",
    "    xaxis_title=\"pIC50\",\n",
    "    yaxis_title=\"pIC50\",\n",
    "    legend_title=\"Bioactivity Class\",\n",
    "    font=dict(\n",
    "        family=\"Courier New, monospace\",\n",
    "        size=18,\n",
    "        color=\"RebeccaPurple\"\n",
    "    )\n",
    ")\n",
    "\n",
    "\n",
    "fig.show()"
   ]
  },
  {
   "cell_type": "code",
   "execution_count": null,
   "id": "779c51a5",
   "metadata": {},
   "outputs": [],
   "source": [
    "df_activity.to_csv('df_processed_complete.csv')"
   ]
  },
  {
   "cell_type": "code",
   "execution_count": null,
   "id": "7c638e4a",
   "metadata": {},
   "outputs": [],
   "source": [
    "df_interest = df_activity.filter(['molecule_chembl_id','canonical_smiles','bioactivity_class', 'pIC50'], axis=1)"
   ]
  },
  {
   "cell_type": "code",
   "execution_count": null,
   "id": "b613a396",
   "metadata": {},
   "outputs": [],
   "source": [
    "df_interest.to_csv('df_interest_columns.csv')"
   ]
  },
  {
   "cell_type": "markdown",
   "id": "6301172d",
   "metadata": {},
   "source": [
    "### Removal of molecules classified as intermediate "
   ]
  },
  {
   "cell_type": "code",
   "execution_count": null,
   "id": "530e3fe1",
   "metadata": {},
   "outputs": [],
   "source": [
    "df_interest = df_interest[df_interest.bioactivity_class != 'intermediate']"
   ]
  },
  {
   "cell_type": "code",
   "execution_count": null,
   "id": "d3704045",
   "metadata": {},
   "outputs": [],
   "source": [
    "df_interest.to_csv('df_interest_columns_clean.csv')"
   ]
  }
 ],
 "metadata": {
  "kernelspec": {
   "display_name": "Python 3 (ipykernel)",
   "language": "python",
   "name": "python3"
  },
  "language_info": {
   "codemirror_mode": {
    "name": "ipython",
    "version": 3
   },
   "file_extension": ".py",
   "mimetype": "text/x-python",
   "name": "python",
   "nbconvert_exporter": "python",
   "pygments_lexer": "ipython3",
   "version": "3.7.11"
  }
 },
 "nbformat": 4,
 "nbformat_minor": 5
}
