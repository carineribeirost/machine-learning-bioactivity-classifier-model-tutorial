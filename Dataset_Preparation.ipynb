{
 "cells": [
  {
   "cell_type": "markdown",
   "id": "cdbf709b",
   "metadata": {},
   "source": [
    "# Dataset Preparation"
   ]
  },
  {
   "cell_type": "markdown",
   "id": "f54e6d67",
   "metadata": {},
   "source": [
    "## Installing and Importing Libraries"
   ]
  },
  {
   "cell_type": "code",
   "execution_count": 1,
   "id": "ebbcf090",
   "metadata": {},
   "outputs": [
    {
     "name": "stdout",
     "output_type": "stream",
     "text": [
      "Requirement already satisfied: padelpy in c:\\users\\carine\\anaconda3\\lib\\site-packages (0.1.11)\n"
     ]
    }
   ],
   "source": [
    "!pip install padelpy"
   ]
  },
  {
   "cell_type": "markdown",
   "id": "fc137e5c",
   "metadata": {},
   "source": [
    "PaDELPy provides a Python wrapper for the PaDEL-Descriptor molecular descriptor calculation software. It was created to allow direct access to the PaDEL-Descriptor command-line interface via Python.\n",
    "\n",
    "https://github.com/ecrl/padelpy"
   ]
  },
  {
   "cell_type": "code",
   "execution_count": 2,
   "id": "ab3e50a1",
   "metadata": {},
   "outputs": [
    {
     "name": "stdout",
     "output_type": "stream",
     "text": [
      "Requirement already satisfied: wget in c:\\users\\carine\\anaconda3\\lib\\site-packages (3.2)\n"
     ]
    }
   ],
   "source": [
    "!pip install wget"
   ]
  },
  {
   "cell_type": "markdown",
   "id": "47d16fa0",
   "metadata": {},
   "source": [
    "Python utility command used to download files\n",
    "\n",
    "https://pypi.org/project/wget/"
   ]
  },
  {
   "cell_type": "code",
   "execution_count": 3,
   "id": "42fa2ad3",
   "metadata": {},
   "outputs": [],
   "source": [
    "import wget\n",
    "import zipfile as z\n",
    "import glob\n",
    "\n",
    "import pandas as pd\n",
    "from padelpy import padeldescriptor"
   ]
  },
  {
   "cell_type": "markdown",
   "id": "cdfb9480",
   "metadata": {},
   "source": [
    "## Functions"
   ]
  },
  {
   "cell_type": "code",
   "execution_count": 4,
   "id": "f91c12d3",
   "metadata": {},
   "outputs": [],
   "source": [
    "def download_fingerprints(url):\n",
    "    filename = wget.download(url)\n",
    "    zipf = z.ZipFile(filename)\n",
    "    zipf.extractall()"
   ]
  },
  {
   "cell_type": "code",
   "execution_count": 5,
   "id": "368cf6a3",
   "metadata": {},
   "outputs": [],
   "source": [
    "def get_xml():\n",
    "    files = glob.glob('*.xml')\n",
    "    files.sort()\n",
    "    return files"
   ]
  },
  {
   "cell_type": "code",
   "execution_count": 6,
   "id": "61dc3ce5",
   "metadata": {},
   "outputs": [],
   "source": [
    "def xml_string_removal(list_):\n",
    "    fp_new = list()\n",
    "    for i in list_:\n",
    "        i = i[:-4]\n",
    "        fp_new.append(i)\n",
    "    return fp_new"
   ]
  },
  {
   "cell_type": "code",
   "execution_count": 7,
   "id": "df8ba690",
   "metadata": {},
   "outputs": [],
   "source": [
    "def print_shape(list_):\n",
    "    for i in list_:\n",
    "        print(i.shape)"
   ]
  },
  {
   "cell_type": "code",
   "execution_count": 8,
   "id": "ed9f3af3",
   "metadata": {},
   "outputs": [],
   "source": [
    "def descriptor_building(fingerprint_list, molecule_dir):\n",
    "    descriptor_list = list()\n",
    "    for i in fingerprint_list:\n",
    "        fingerprint_output_file = ''.join([i,'.csv']) \n",
    "        fingerprint_descriptortypes = fp[i]\n",
    "        padeldescriptor(mol_dir = molecule_dir, \n",
    "                    d_file = fingerprint_output_file, \n",
    "                    descriptortypes = fingerprint_descriptortypes,\n",
    "                    detectaromaticity = True,\n",
    "                    standardizenitro = True,\n",
    "                    standardizetautomers = True,\n",
    "                    threads = 2,\n",
    "                    removesalt = True,\n",
    "                    log = True,\n",
    "                    fingerprints = True) \n",
    "        descriptor_list.append(pd.read_csv(fingerprint_output_file))\n",
    "    return descriptor_list"
   ]
  },
  {
   "cell_type": "code",
   "execution_count": 9,
   "id": "a4a675fd",
   "metadata": {},
   "outputs": [],
   "source": [
    "def lipinski_building(lipinski_list, molecule_dir):\n",
    "    descriptor_list = list()\n",
    "    for i in lipinski_list:\n",
    "        lipinski_output_file = ''.join([i,'.csv']) \n",
    "        lipinski_descriptortypes = lp[i]\n",
    "        padeldescriptor(mol_dir = molecule_dir, \n",
    "                    d_file = lipinski_output_file, \n",
    "                    descriptortypes = lipinski_descriptortypes,\n",
    "                    detectaromaticity = True,\n",
    "                    standardizenitro = True,\n",
    "                    standardizetautomers = True,\n",
    "                    threads = 2,\n",
    "                    removesalt = True,\n",
    "                    log = True,\n",
    "                    d_2d = True) \n",
    "        descriptor_list.append(pd.read_csv(lipinski_output_file))\n",
    "    return descriptor_list"
   ]
  },
  {
   "cell_type": "code",
   "execution_count": 10,
   "id": "bf50cdd7",
   "metadata": {},
   "outputs": [],
   "source": [
    "def save_descriptors_as_csv(fingerprint_list, descriptor_list):\n",
    "    step = 0\n",
    "    for i in fingerprint_list:\n",
    "        filename_list = ''.join([i,'.csv']) \n",
    "        descriptor_list[step].to_csv(filename_list)\n",
    "        step += 1"
   ]
  },
  {
   "cell_type": "markdown",
   "id": "a20e6002",
   "metadata": {},
   "source": [
    "## Fingerprints"
   ]
  },
  {
   "cell_type": "markdown",
   "id": "f06d77fb",
   "metadata": {},
   "source": [
    "### Fingerprint Files Acquisition"
   ]
  },
  {
   "cell_type": "code",
   "execution_count": 11,
   "id": "bfa47171",
   "metadata": {},
   "outputs": [],
   "source": [
    "url = 'https://github.com/carineribeirost/data/blob/main/fingerprints_xml.zip?raw=true'"
   ]
  },
  {
   "cell_type": "code",
   "execution_count": 12,
   "id": "726ba598",
   "metadata": {},
   "outputs": [
    {
     "name": "stdout",
     "output_type": "stream",
     "text": [
      "\r",
      "  0% [                                                                              ]     0 / 10871\r",
      " 75% [..........................................................                    ]  8192 / 10871\r",
      "100% [..............................................................................] 10871 / 10871"
     ]
    }
   ],
   "source": [
    "download_fingerprints(url)"
   ]
  },
  {
   "cell_type": "code",
   "execution_count": 13,
   "id": "e722022e",
   "metadata": {},
   "outputs": [],
   "source": [
    "fingerprint_list = get_xml()"
   ]
  },
  {
   "cell_type": "code",
   "execution_count": 14,
   "id": "6352e915",
   "metadata": {},
   "outputs": [
    {
     "data": {
      "text/plain": [
       "['AtomPairs2DFingerprintCount',\n",
       " 'AtomPairs2DFingerprinter',\n",
       " 'EStateFingerprinter',\n",
       " 'ExtendedFingerprinter',\n",
       " 'Fingerprinter',\n",
       " 'GraphOnlyFingerprinter',\n",
       " 'KlekotaRothFingerprintCount',\n",
       " 'KlekotaRothFingerprinter',\n",
       " 'MACCSFingerprinter',\n",
       " 'PubchemFingerprinter',\n",
       " 'SubstructureFingerprintCount',\n",
       " 'SubstructureFingerprinter']"
      ]
     },
     "execution_count": 14,
     "metadata": {},
     "output_type": "execute_result"
    }
   ],
   "source": [
    "fingerprint_name = xml_string_removal(fingerprint_list)\n",
    "fingerprint_name"
   ]
  },
  {
   "cell_type": "markdown",
   "id": "8002b92d",
   "metadata": {},
   "source": [
    "A dictionary linking the fingerprints names with the xml files names will be used"
   ]
  },
  {
   "cell_type": "code",
   "execution_count": 15,
   "id": "a52641da",
   "metadata": {},
   "outputs": [
    {
     "data": {
      "text/plain": [
       "{'AtomPairs2DFingerprintCount': 'AtomPairs2DFingerprintCount.xml',\n",
       " 'AtomPairs2DFingerprinter': 'AtomPairs2DFingerprinter.xml',\n",
       " 'EStateFingerprinter': 'EStateFingerprinter.xml',\n",
       " 'ExtendedFingerprinter': 'ExtendedFingerprinter.xml',\n",
       " 'Fingerprinter': 'Fingerprinter.xml',\n",
       " 'GraphOnlyFingerprinter': 'GraphOnlyFingerprinter.xml',\n",
       " 'KlekotaRothFingerprintCount': 'KlekotaRothFingerprintCount.xml',\n",
       " 'KlekotaRothFingerprinter': 'KlekotaRothFingerprinter.xml',\n",
       " 'MACCSFingerprinter': 'MACCSFingerprinter.xml',\n",
       " 'PubchemFingerprinter': 'PubchemFingerprinter.xml',\n",
       " 'SubstructureFingerprintCount': 'SubstructureFingerprintCount.xml',\n",
       " 'SubstructureFingerprinter': 'SubstructureFingerprinter.xml'}"
      ]
     },
     "execution_count": 15,
     "metadata": {},
     "output_type": "execute_result"
    }
   ],
   "source": [
    "fp = dict(zip(fingerprint_name, fingerprint_list))\n",
    "fp"
   ]
  },
  {
   "cell_type": "markdown",
   "id": "0ebdc40b",
   "metadata": {},
   "source": [
    "## dataframe loading  and interest columns selection"
   ]
  },
  {
   "cell_type": "code",
   "execution_count": 16,
   "id": "0ee321a1",
   "metadata": {},
   "outputs": [
    {
     "data": {
      "text/html": [
       "<div>\n",
       "<style scoped>\n",
       "    .dataframe tbody tr th:only-of-type {\n",
       "        vertical-align: middle;\n",
       "    }\n",
       "\n",
       "    .dataframe tbody tr th {\n",
       "        vertical-align: top;\n",
       "    }\n",
       "\n",
       "    .dataframe thead th {\n",
       "        text-align: right;\n",
       "    }\n",
       "</style>\n",
       "<table border=\"1\" class=\"dataframe\">\n",
       "  <thead>\n",
       "    <tr style=\"text-align: right;\">\n",
       "      <th></th>\n",
       "      <th>molecule_chembl_id</th>\n",
       "      <th>canonical_smiles</th>\n",
       "      <th>bioactivity_class</th>\n",
       "      <th>pIC50</th>\n",
       "    </tr>\n",
       "  </thead>\n",
       "  <tbody>\n",
       "    <tr>\n",
       "      <th>8</th>\n",
       "      <td>CHEMBL217524</td>\n",
       "      <td>O=C(Nc1ccc(F)c(Cl)c1)C1CC(=O)N(C2CCCCC2)C1</td>\n",
       "      <td>inactive</td>\n",
       "      <td>4.828859</td>\n",
       "    </tr>\n",
       "    <tr>\n",
       "      <th>9</th>\n",
       "      <td>CHEMBL384149</td>\n",
       "      <td>COc1ccc(Cl)cc1NC(=O)C1CC(=O)N(C2CCCCC2)C1</td>\n",
       "      <td>intermediate</td>\n",
       "      <td>5.795880</td>\n",
       "    </tr>\n",
       "    <tr>\n",
       "      <th>10</th>\n",
       "      <td>CHEMBL216339</td>\n",
       "      <td>O=C(Nc1cc(C(F)(F)F)cc(C(F)(F)F)c1)C1CC(=O)N(C2...</td>\n",
       "      <td>intermediate</td>\n",
       "      <td>5.435334</td>\n",
       "    </tr>\n",
       "    <tr>\n",
       "      <th>11</th>\n",
       "      <td>CHEMBL216704</td>\n",
       "      <td>COc1cc(NC(=O)C2CC(=O)N(C3CCCCC3)C2)cc(C(F)(F)F)c1</td>\n",
       "      <td>intermediate</td>\n",
       "      <td>5.886057</td>\n",
       "    </tr>\n",
       "    <tr>\n",
       "      <th>12</th>\n",
       "      <td>CHEMBL386324</td>\n",
       "      <td>O=C(Nc1cc(Br)cc(C(F)(F)F)c1)C1CC(=O)N(C2CCCCC2)C1</td>\n",
       "      <td>active</td>\n",
       "      <td>6.070581</td>\n",
       "    </tr>\n",
       "  </tbody>\n",
       "</table>\n",
       "</div>"
      ],
      "text/plain": [
       "   molecule_chembl_id                                   canonical_smiles  \\\n",
       "8        CHEMBL217524         O=C(Nc1ccc(F)c(Cl)c1)C1CC(=O)N(C2CCCCC2)C1   \n",
       "9        CHEMBL384149          COc1ccc(Cl)cc1NC(=O)C1CC(=O)N(C2CCCCC2)C1   \n",
       "10       CHEMBL216339  O=C(Nc1cc(C(F)(F)F)cc(C(F)(F)F)c1)C1CC(=O)N(C2...   \n",
       "11       CHEMBL216704  COc1cc(NC(=O)C2CC(=O)N(C3CCCCC3)C2)cc(C(F)(F)F)c1   \n",
       "12       CHEMBL386324  O=C(Nc1cc(Br)cc(C(F)(F)F)c1)C1CC(=O)N(C2CCCCC2)C1   \n",
       "\n",
       "   bioactivity_class     pIC50  \n",
       "8           inactive  4.828859  \n",
       "9       intermediate  5.795880  \n",
       "10      intermediate  5.435334  \n",
       "11      intermediate  5.886057  \n",
       "12            active  6.070581  "
      ]
     },
     "execution_count": 16,
     "metadata": {},
     "output_type": "execute_result"
    }
   ],
   "source": [
    "df_processed = pd.read_csv('df_interest_columns.csv', index_col = 0)\n",
    "df_processed.head()"
   ]
  },
  {
   "cell_type": "code",
   "execution_count": 17,
   "id": "5ae22a58",
   "metadata": {},
   "outputs": [
    {
     "data": {
      "text/html": [
       "<div>\n",
       "<style scoped>\n",
       "    .dataframe tbody tr th:only-of-type {\n",
       "        vertical-align: middle;\n",
       "    }\n",
       "\n",
       "    .dataframe tbody tr th {\n",
       "        vertical-align: top;\n",
       "    }\n",
       "\n",
       "    .dataframe thead th {\n",
       "        text-align: right;\n",
       "    }\n",
       "</style>\n",
       "<table border=\"1\" class=\"dataframe\">\n",
       "  <thead>\n",
       "    <tr style=\"text-align: right;\">\n",
       "      <th></th>\n",
       "      <th>canonical_smiles</th>\n",
       "      <th>molecule_chembl_id</th>\n",
       "    </tr>\n",
       "  </thead>\n",
       "  <tbody>\n",
       "    <tr>\n",
       "      <th>8</th>\n",
       "      <td>O=C(Nc1ccc(F)c(Cl)c1)C1CC(=O)N(C2CCCCC2)C1</td>\n",
       "      <td>CHEMBL217524</td>\n",
       "    </tr>\n",
       "    <tr>\n",
       "      <th>9</th>\n",
       "      <td>COc1ccc(Cl)cc1NC(=O)C1CC(=O)N(C2CCCCC2)C1</td>\n",
       "      <td>CHEMBL384149</td>\n",
       "    </tr>\n",
       "    <tr>\n",
       "      <th>10</th>\n",
       "      <td>O=C(Nc1cc(C(F)(F)F)cc(C(F)(F)F)c1)C1CC(=O)N(C2...</td>\n",
       "      <td>CHEMBL216339</td>\n",
       "    </tr>\n",
       "    <tr>\n",
       "      <th>11</th>\n",
       "      <td>COc1cc(NC(=O)C2CC(=O)N(C3CCCCC3)C2)cc(C(F)(F)F)c1</td>\n",
       "      <td>CHEMBL216704</td>\n",
       "    </tr>\n",
       "    <tr>\n",
       "      <th>12</th>\n",
       "      <td>O=C(Nc1cc(Br)cc(C(F)(F)F)c1)C1CC(=O)N(C2CCCCC2)C1</td>\n",
       "      <td>CHEMBL386324</td>\n",
       "    </tr>\n",
       "  </tbody>\n",
       "</table>\n",
       "</div>"
      ],
      "text/plain": [
       "                                     canonical_smiles molecule_chembl_id\n",
       "8          O=C(Nc1ccc(F)c(Cl)c1)C1CC(=O)N(C2CCCCC2)C1       CHEMBL217524\n",
       "9           COc1ccc(Cl)cc1NC(=O)C1CC(=O)N(C2CCCCC2)C1       CHEMBL384149\n",
       "10  O=C(Nc1cc(C(F)(F)F)cc(C(F)(F)F)c1)C1CC(=O)N(C2...       CHEMBL216339\n",
       "11  COc1cc(NC(=O)C2CC(=O)N(C3CCCCC3)C2)cc(C(F)(F)F)c1       CHEMBL216704\n",
       "12  O=C(Nc1cc(Br)cc(C(F)(F)F)c1)C1CC(=O)N(C2CCCCC2)C1       CHEMBL386324"
      ]
     },
     "execution_count": 17,
     "metadata": {},
     "output_type": "execute_result"
    }
   ],
   "source": [
    "df_smi = pd.concat( [df_processed['canonical_smiles'], df_processed['molecule_chembl_id']], axis=1 )\n",
    "df_smi.to_csv('molecule.smi', sep='\\t', index=False, header=False)\n",
    "df_smi.head()"
   ]
  },
  {
   "cell_type": "markdown",
   "id": "ddf00f9b",
   "metadata": {},
   "source": [
    "## Building fingerprints for the selected molecule"
   ]
  },
  {
   "cell_type": "markdown",
   "id": "1627e6ff",
   "metadata": {},
   "source": [
    "It can take a few minutes to run. It would be nice trying to make a coffee or taking a walk around the neighbourhood"
   ]
  },
  {
   "cell_type": "code",
   "execution_count": 18,
   "id": "01117734",
   "metadata": {},
   "outputs": [],
   "source": [
    "descriptor_list = descriptor_building(fingerprint_name, 'molecule.smi')"
   ]
  },
  {
   "cell_type": "code",
   "execution_count": 19,
   "id": "dbf46d25",
   "metadata": {},
   "outputs": [
    {
     "name": "stdout",
     "output_type": "stream",
     "text": [
      "(329, 781)\n",
      "(329, 781)\n",
      "(329, 80)\n",
      "(329, 1025)\n",
      "(329, 1025)\n",
      "(329, 1025)\n",
      "(329, 4861)\n",
      "(329, 4861)\n",
      "(329, 167)\n",
      "(329, 882)\n",
      "(329, 308)\n",
      "(329, 308)\n"
     ]
    }
   ],
   "source": [
    "print_shape(descriptor_list)"
   ]
  },
  {
   "cell_type": "code",
   "execution_count": 20,
   "id": "24ae7294",
   "metadata": {},
   "outputs": [],
   "source": [
    "save_descriptors_as_csv(fingerprint_name, descriptor_list)"
   ]
  },
  {
   "cell_type": "markdown",
   "id": "f429d722",
   "metadata": {},
   "source": [
    "## Lipinski Descriptors"
   ]
  },
  {
   "cell_type": "markdown",
   "id": "bd95e008",
   "metadata": {},
   "source": [
    "The exact same process will be made to acquire de lipinski descriptors for the molecules"
   ]
  },
  {
   "cell_type": "code",
   "execution_count": 21,
   "id": "55530832",
   "metadata": {},
   "outputs": [],
   "source": [
    "url_lip = 'https://github.com/carineribeirost/data/blob/main/Lipinski_xml.zip?raw=true'"
   ]
  },
  {
   "cell_type": "code",
   "execution_count": 22,
   "id": "30db0aca",
   "metadata": {},
   "outputs": [
    {
     "name": "stdout",
     "output_type": "stream",
     "text": [
      "\r",
      "  0% [                                                                                ]    0 / 3492\r",
      "100% [................................................................................] 3492 / 3492"
     ]
    }
   ],
   "source": [
    "download_fingerprints(url_lip)"
   ]
  },
  {
   "cell_type": "code",
   "execution_count": 23,
   "id": "ab0225f0",
   "metadata": {},
   "outputs": [],
   "source": [
    "lipinski_list =  get_xml()\n",
    "lipinski_new = list()\n",
    "for i in lipinski_list:\n",
    "    if i not in fingerprint_list:\n",
    "        lipinski_new.append(i)\n",
    "lipinski_list = lipinski_new"
   ]
  },
  {
   "cell_type": "code",
   "execution_count": 24,
   "id": "f50bfeac",
   "metadata": {},
   "outputs": [
    {
     "data": {
      "text/plain": [
       "['ALOGP.xml', 'HBondAcceptorCount.xml', 'HBondDonorCount.xml', 'Weight.xml']"
      ]
     },
     "execution_count": 24,
     "metadata": {},
     "output_type": "execute_result"
    }
   ],
   "source": [
    "lipinski_list"
   ]
  },
  {
   "cell_type": "code",
   "execution_count": 25,
   "id": "16ded4db",
   "metadata": {},
   "outputs": [
    {
     "data": {
      "text/plain": [
       "['ALOGP', 'HBondAcceptorCount', 'HBondDonorCount', 'Weight']"
      ]
     },
     "execution_count": 25,
     "metadata": {},
     "output_type": "execute_result"
    }
   ],
   "source": [
    "lipinski_name = xml_string_removal(lipinski_list)\n",
    "lipinski_name"
   ]
  },
  {
   "cell_type": "code",
   "execution_count": 26,
   "id": "68a44c57",
   "metadata": {},
   "outputs": [
    {
     "data": {
      "text/plain": [
       "{'ALOGP': 'ALOGP.xml',\n",
       " 'HBondAcceptorCount': 'HBondAcceptorCount.xml',\n",
       " 'HBondDonorCount': 'HBondDonorCount.xml',\n",
       " 'Weight': 'Weight.xml'}"
      ]
     },
     "execution_count": 26,
     "metadata": {},
     "output_type": "execute_result"
    }
   ],
   "source": [
    "lp = dict(zip(lipinski_name, lipinski_list))\n",
    "lp"
   ]
  },
  {
   "cell_type": "code",
   "execution_count": 27,
   "id": "4880ae51",
   "metadata": {},
   "outputs": [],
   "source": [
    "lipinski_descriptor = lipinski_building(lipinski_name, 'molecule.smi')"
   ]
  },
  {
   "cell_type": "code",
   "execution_count": 28,
   "id": "4fefb634",
   "metadata": {},
   "outputs": [
    {
     "name": "stdout",
     "output_type": "stream",
     "text": [
      "(329, 4)\n",
      "(329, 5)\n",
      "(329, 3)\n",
      "(329, 3)\n"
     ]
    }
   ],
   "source": [
    "print_shape(lipinski_descriptor)"
   ]
  },
  {
   "cell_type": "code",
   "execution_count": 29,
   "id": "17411fd5",
   "metadata": {},
   "outputs": [],
   "source": [
    "save_descriptors_as_csv(lipinski_name, lipinski_descriptor)"
   ]
  },
  {
   "cell_type": "code",
   "execution_count": 30,
   "id": "78697321",
   "metadata": {},
   "outputs": [
    {
     "data": {
      "text/plain": [
       "['ALOGP', 'HBondAcceptorCount', 'HBondDonorCount', 'Weight']"
      ]
     },
     "execution_count": 30,
     "metadata": {},
     "output_type": "execute_result"
    }
   ],
   "source": [
    "lipinski_name"
   ]
  },
  {
   "cell_type": "markdown",
   "id": "cfebe5bd",
   "metadata": {},
   "source": [
    "### Removing from lipinski csv the columns that are unimportant for the analysis"
   ]
  },
  {
   "cell_type": "code",
   "execution_count": 31,
   "id": "6c36a4d4",
   "metadata": {},
   "outputs": [],
   "source": [
    "df_ALOGP = pd.read_csv(\"ALOGP.csv\")\n",
    "df_ALOGP = df_ALOGP.drop(['Name','ALogp2', 'AMR'], axis=1)\n",
    "df_ALOGP.to_csv('ALOGP.csv')"
   ]
  },
  {
   "cell_type": "code",
   "execution_count": 32,
   "id": "7e405d7b",
   "metadata": {},
   "outputs": [],
   "source": [
    "df_HBondAcceptorCount = pd.read_csv(\"HBondAcceptorCount.csv\")\n",
    "df_HBondAcceptorCount = df_HBondAcceptorCount.drop(['Name','nHBAcc','nHBAcc2','nHBAcc3'], axis=1)\n",
    "df_HBondAcceptorCount.to_csv('HBondAcceptorCount.csv')"
   ]
  },
  {
   "cell_type": "code",
   "execution_count": 33,
   "id": "94ac0ddd",
   "metadata": {},
   "outputs": [],
   "source": [
    "df_HBondDonorCount = pd.read_csv(\"HBondDonorCount.csv\")\n",
    "df_HBondDonorCount = df_HBondDonorCount.drop(['Name','nHBDon'], axis=1)\n",
    "df_HBondDonorCount.to_csv('HBondDonorCount.csv')"
   ]
  },
  {
   "cell_type": "code",
   "execution_count": 34,
   "id": "8734a167",
   "metadata": {},
   "outputs": [],
   "source": [
    "df_Weight = pd.read_csv(\"Weight.csv\")\n",
    "df_Weight = df_Weight.drop(['Name','AMW'], axis=1)\n",
    "df_Weight.to_csv('Weight.csv')"
   ]
  }
 ],
 "metadata": {
  "kernelspec": {
   "display_name": "Python 3",
   "language": "python",
   "name": "python3"
  },
  "language_info": {
   "codemirror_mode": {
    "name": "ipython",
    "version": 3
   },
   "file_extension": ".py",
   "mimetype": "text/x-python",
   "name": "python",
   "nbconvert_exporter": "python",
   "pygments_lexer": "ipython3",
   "version": "3.8.8"
  }
 },
 "nbformat": 4,
 "nbformat_minor": 5
}
